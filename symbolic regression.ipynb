{
 "cells": [
  {
   "cell_type": "markdown",
   "metadata": {},
   "source": [
    "After many trials"
   ]
  },
  {
   "cell_type": "markdown",
   "metadata": {},
   "source": [
    "double_skin"
   ]
  },
  {
   "cell_type": "code",
   "execution_count": 216,
   "metadata": {},
   "outputs": [
    {
     "name": "stderr",
     "output_type": "stream",
     "text": [
      "c:\\Users\\osama\\anaconda3\\lib\\site-packages\\pysr\\sr.py:1230: UserWarning: Note: Using a large maxsize for the equation search will be exponentially slower and use significant memory. You should consider turning `use_frequency` to False, and perhaps use `warmup_maxsize_by`.\n",
      "  warnings.warn(\n",
      "c:\\Users\\osama\\anaconda3\\lib\\site-packages\\pysr\\sr.py:1296: UserWarning: Note: it looks like you are running in Jupyter. The progress bar will be turned off.\n",
      "  warnings.warn(\n"
     ]
    },
    {
     "name": "stdout",
     "output_type": "stream",
     "text": [
      "0.9414781941701408       Mean Squared Error: 0.3618988795335194          2.26412100000000\n",
      "0.9592118867490954       Mean Squared Error: 0.184067494019574          eta_o + 1.4976299\n",
      "0.9800631724197708       Mean Squared Error: 0.11725973700607613          eta_i + eta_o + 1.1657709\n",
      "0.9817337585727615       Mean Squared Error: 0.1055603904824611          eta_i + 1.16053319072701*eta_o + 1.0398949\n",
      "0.9960951534890364       Mean Squared Error: 0.09338918587619967          1.0973018**(eta_o/Di_D) + eta_i + eta_o\n",
      "1.0042132692411005       Mean Squared Error: 0.08964808077071601          eta_i + eta_o + (0.28830558 + eta_o/Di_D)**0.29875413\n",
      "1.0063315779300441       Mean Squared Error: 0.08371387536429944          eta_i + eta_o + 0.775073980830572*(eta_o/(Di_D*fc_fyo))**0.19528726\n",
      "1.0044671728665633       Mean Squared Error: 0.0821596621692013          eta_i + eta_o + (eta_o/(Di_D*fc_fyo*(L_Do + 0.8891143)))**0.1924652\n",
      "0.9946438717091605       Mean Squared Error: 0.0777503146339095          eta_i + eta_o + 2.46042508331603*(eta_o/(Di_D*fc_fyo*fyo))**0.20827866\n",
      "0.9962615963357033       Mean Squared Error: 0.07650050585523047          eta_i + eta_o + 2.87118808723674*(0.018589601584206*fc_fyo + eta_o/(Di_D*fc_fyo*fyo))**0.26466385\n",
      "0.9957780489917618       Mean Squared Error: 0.07675880768188613          eta_i + eta_o + ((eta_o + fc_fyo)/(fc_fyo*(0.0191056168340136*Di_D*fyo + 0.317549512593324)))**0.2788979\n",
      "1.0026741164148825       Mean Squared Error: 0.07415670654312659          eta_i + eta_o + 2.99648502989275*(0.025856011593324*Di_D**2 + (eta_o + fc_fyo)/(Di_D*fc_fyo*fyo))**0.30023974\n",
      "0.9934642987567288       Mean Squared Error: 0.07382578948545589          eta_i + eta_o + 1.49779743724763*(0.26038945*Di_D**2 - (eta_o + fc_fyo)/(Di_D*fc_fyo*(2.4148731 - 0.114188455*fyo)))**0.30023974\n",
      "1.0004916287709327       Mean Squared Error: 0.07370264592864345          eta_i + eta_o + 2.99648502989275*(0.0403324563562754*Di_D**3 + (eta_o + fc_fyo)/(Di_D*fc_fyo*fyo))**0.30023974\n",
      "0.9966508486509429       Mean Squared Error: 0.0735849138124225          eta_i + eta_o + 2.99648502989275*(0.0535265644674524*Di_D**4 + (eta_o + fc_fyo)/(Di_D*fc_fyo*fyo))**0.30023974\n",
      "0.9931060686344766       Mean Squared Error: 0.07235784304943822          eta_i + eta_o + 2.99648502989275*(0.025856011593324*Di_D**5/eta_i + (eta_o + fc_fyo)/(Di_D*fc_fyo*fyo))**0.30023974\n",
      "0.9999300249443553       Mean Squared Error: 0.07202512854885683          eta_i + eta_o + 2.99648502989275*(0.025856011593324*Di_D**4*(Di_D/eta_i + eta_o) + (eta_o + fc_fyo)/(Di_D*fc_fyo*fyo))**0.30023974\n",
      "0.9972575372886341       Mean Squared Error: 0.0717578636965337          eta_i + eta_o + 2.99648502989275*(0.025856011593324*Di_D**5*(Di_D + eta_o)/eta_i + (eta_o + fc_fyo)/(Di_D*fc_fyo*fyo))**0.30023974\n",
      "0.9989553145469031       Mean Squared Error: 0.07169917814258617          eta_i + eta_o + 2.99648502989275*(0.025856011593324*Di_D**5*(1.21380582748178*Di_D + eta_o)/eta_i + (eta_o + fc_fyo)/(Di_D*fc_fyo*fyo))**0.30023974\n",
      "1.0013072156955065       Mean Squared Error: 0.07082807183304216          eta_i + eta_o + (Di_D**5*(eta_o + 0.77493906)/eta_i + (eta_o + fc_fyo)/(fc_fyo*(0.025856011593324*Di_D*fyo - 0.2264328*eta_i**2)))**0.30023974\n",
      "1.0008298592986065       Mean Squared Error: 0.07027056615535476          eta_i + eta_o + (Di_D**5*(Di_D + eta_o)/eta_i + (eta_o + fc_fyo)/(fc_fyo*(0.025856011593324*Di_D*fyo - 0.36121497687792*eta_i**2)))**0.30023974\n",
      "1.0032255718430911       Mean Squared Error: 0.07012380259309721          eta_i + eta_o + (Di_D**5*(Di_D + eta_o + fc_fyo)/eta_i + (eta_o + fc_fyo)/(fc_fyo*(0.025856011593324*Di_D*fyo - 0.36121497687792*eta_i**2)))**0.30023974\n",
      "1.004346088293504       Mean Squared Error: 0.0698131707707705          eta_i + eta_o + (Di_D**5*(eta_o + 0.77493906)/eta_i + (eta_o + fc_fyo)/(fc_fyo*(0.025856011593324*Di_D*fyo - 0.2264328*eta_i*(eta_i + 0.7931713) - 0.2264328*eta_i + 0.06928833490524)))**0.30023974\n"
     ]
    }
   ],
   "source": [
    "PC = pd.read_excel(\"PDS.xlsx\")\n",
    "PC['foAo']=(PC['Do']-PC['to'])*PC['to']*PC['fyo']*pi\n",
    "PC['fiAi']=(PC['Di']-PC['ti'])*PC['ti']*PC['fyi']*pi\n",
    "PC['fcAc']=((PC['Do']-2.0*PC['to'])**2.0-PC['Di']**2.0)*PC['fc']/4.0*pi#error\n",
    "\n",
    "PC['eta_i']=(PC['fiAi'])/(PC['fcAc'])\n",
    "PC['eta_o']=(PC['foAo'])/PC['fcAc']\n",
    "PC['xi_i']=(PC['fcAc'])/(PC['fiAi'])\n",
    "PC['xi_o']=PC['fcAc']/(PC['foAo'])\n",
    "PC['ti_D']=PC['ti']/PC['Di']\n",
    "PC['to_D']=PC['to']/PC['Do']\n",
    "PC['L_Do']=PC['L']/PC['Do']\n",
    "PC['D_ti']=PC['Di']/PC['ti']\n",
    "PC['D_to']=PC['Do']/PC['to']\n",
    "PC['fyi_fc']=(PC['fyi'])/(PC['fc'])\n",
    "PC['fyo_fc']=(PC['fyo'])/(PC['fc'])\n",
    "PC['fc_fyo']=PC['fc']/PC['fyo']\n",
    "PC['Di_D']=PC['Di']/PC['Do']\n",
    "\n",
    "PC['P_PcS']=PC['P']/(PC['fcAc'])*1000.0\n",
    "X=PC[['L_Do','eta_i','eta_o','fyi','fyo','fc_fyo','Di_D']]\n",
    "y=PC['P_PcS']\n",
    "\n",
    "model = PySRRegressor(niterations=100,populations=40,population_size=60,maxsize=50,\n",
    "                      nested_constraints={\"^\":{\"^\":0,\"/\":1},\"/\":{\"/\":0,\"^\":1}},\n",
    "                      binary_operators=[\"+\", \"*\",\"^\",\"/\"],#special(x,y)=x^2.0+y\n",
    "                      denoise=True,loss=\"loss(x, y) = abs(x/y-1)\",\n",
    "                      )\n",
    "model.fit(X,y)\n",
    "for i in range(len(model.equations_)):\n",
    "    model.sympy(i)\n",
    "    y_pred = model.predict(X,index=i)\n",
    "    aa=y_pred/y.values\n",
    "    print(np.mean(aa),\"      Mean Squared Error:\",  np.std(aa)/np.mean(aa),\"        \",model.sympy(i))"
   ]
  },
  {
   "cell_type": "code",
   "execution_count": 217,
   "metadata": {},
   "outputs": [
    {
     "data": {
      "text/latex": [
       "$\\displaystyle \\eta_{i} + \\eta_{o} + 2.99648502989275 \\left(0.0535265644674524 Di_{D}^{4} + \\frac{\\eta_{o} + fc_{fyo}}{Di_{D} fc_{fyo} fyo}\\right)^{0.30023974}$"
      ],
      "text/plain": [
       "eta_i + eta_o + 2.99648502989275*(0.0535265644674524*Di_D**4 + (eta_o + fc_fyo)/(Di_D*fc_fyo*fyo))**0.30023974"
      ]
     },
     "execution_count": 217,
     "metadata": {},
     "output_type": "execute_result"
    }
   ],
   "source": [
    "i=14\n",
    "model.sympy(i)"
   ]
  },
  {
   "cell_type": "code",
   "execution_count": 219,
   "metadata": {},
   "outputs": [
    {
     "name": "stdout",
     "output_type": "stream",
     "text": [
      "0.9966508486509429       Mean Squared Error: 0.0735849138124225          eta_i + eta_o + 2.99648502989275*(0.0535265644674524*Di_D**4 + (eta_o + fc_fyo)/(Di_D*fc_fyo*fyo))**0.30023974\n"
     ]
    }
   ],
   "source": [
    "y_pred = model.predict(X,index=i)\n",
    "aa=y_pred/y.values\n",
    "print(np.mean(aa),\"      Mean Squared Error:\",  np.std(aa)/np.mean(aa),\"        \",model.sympy(i))"
   ]
  },
  {
   "cell_type": "code",
   "execution_count": 224,
   "metadata": {},
   "outputs": [
    {
     "data": {
      "text/latex": [
       "$\\displaystyle \\eta_{i} + \\eta_{o} + 2.99648502989275 \\left(\\frac{0.025856011593324 Di_{D}^{5} \\cdot \\left(1.21380582748178 Di_{D} + \\eta_{o}\\right)}{\\eta_{i}} + \\frac{\\eta_{o} + fc_{fyo}}{Di_{D} fc_{fyo} fyo}\\right)^{0.30023974}$"
      ],
      "text/plain": [
       "eta_i + eta_o + 2.99648502989275*(0.025856011593324*Di_D**5*(1.21380582748178*Di_D + eta_o)/eta_i + (eta_o + fc_fyo)/(Di_D*fc_fyo*fyo))**0.30023974"
      ]
     },
     "execution_count": 224,
     "metadata": {},
     "output_type": "execute_result"
    }
   ],
   "source": [
    "i=18\n",
    "model.sympy(i)"
   ]
  },
  {
   "cell_type": "code",
   "execution_count": 225,
   "metadata": {},
   "outputs": [
    {
     "name": "stdout",
     "output_type": "stream",
     "text": [
      "0.9989553145469031       Mean Squared Error: 0.07169917814258617          eta_i + eta_o + 2.99648502989275*(0.025856011593324*Di_D**5*(1.21380582748178*Di_D + eta_o)/eta_i + (eta_o + fc_fyo)/(Di_D*fc_fyo*fyo))**0.30023974\n"
     ]
    }
   ],
   "source": [
    "y_pred = model.predict(X,index=i)\n",
    "aa=y_pred/y.values\n",
    "print(np.mean(aa),\"      Mean Squared Error:\",  np.std(aa)/np.mean(aa),\"        \",model.sympy(i))"
   ]
  },
  {
   "cell_type": "markdown",
   "metadata": {},
   "source": [
    "bestttttttttttttttttttttt          no length in"
   ]
  },
  {
   "cell_type": "code",
   "execution_count": 229,
   "metadata": {},
   "outputs": [
    {
     "data": {
      "text/latex": [
       "$\\displaystyle \\eta_{i} + \\eta_{o} + 2.99648502989275 \\left(0.0535265644674524 Di_{D}^{4} + \\frac{\\eta_{o} + fc_{fyo}}{Di_{D} fc_{fyo} fyo}\\right)^{0.30023974}$"
      ],
      "text/plain": [
       "eta_i + eta_o + 2.99648502989275*(0.0535265644674524*Di_D**4 + (eta_o + fc_fyo)/(Di_D*fc_fyo*fyo))**0.30023974"
      ]
     },
     "execution_count": 229,
     "metadata": {},
     "output_type": "execute_result"
    }
   ],
   "source": [
    "i=14\n",
    "model.sympy(i)"
   ]
  },
  {
   "cell_type": "code",
   "execution_count": 230,
   "metadata": {},
   "outputs": [
    {
     "name": "stdout",
     "output_type": "stream",
     "text": [
      "0.9966508486509429       Mean Squared Error: 0.0735849138124225          eta_i + eta_o + 2.99648502989275*(0.0535265644674524*Di_D**4 + (eta_o + fc_fyo)/(Di_D*fc_fyo*fyo))**0.30023974\n"
     ]
    }
   ],
   "source": [
    "y_pred = model.predict(X,index=i)\n",
    "aa=y_pred/y.values\n",
    "print(np.mean(aa),\"      Mean Squared Error:\",  np.std(aa)/np.mean(aa),\"        \",model.sympy(i))"
   ]
  },
  {
   "cell_type": "code",
   "execution_count": 235,
   "metadata": {},
   "outputs": [
    {
     "data": {
      "text/latex": [
       "$\\displaystyle \\eta_{i} + \\eta_{o} + 1.49779743724763 \\left(0.26038945 Di_{D}^{2} - \\frac{\\eta_{o} + fc_{fyo}}{Di_{D} fc_{fyo} \\left(2.4148731 - 0.114188455 fyo\\right)}\\right)^{0.30023974}$"
      ],
      "text/plain": [
       "eta_i + eta_o + 1.49779743724763*(0.26038945*Di_D**2 - (eta_o + fc_fyo)/(Di_D*fc_fyo*(2.4148731 - 0.114188455*fyo)))**0.30023974"
      ]
     },
     "execution_count": 235,
     "metadata": {},
     "output_type": "execute_result"
    }
   ],
   "source": [
    "i=12\n",
    "model.sympy(i)"
   ]
  },
  {
   "cell_type": "code",
   "execution_count": 236,
   "metadata": {},
   "outputs": [
    {
     "name": "stdout",
     "output_type": "stream",
     "text": [
      "0.9934642987567288       Mean Squared Error: 0.07382578948545589          eta_i + eta_o + 1.49779743724763*(0.26038945*Di_D**2 - (eta_o + fc_fyo)/(Di_D*fc_fyo*(2.4148731 - 0.114188455*fyo)))**0.30023974\n"
     ]
    }
   ],
   "source": [
    "y_pred = model.predict(X,index=i)\n",
    "aa=y_pred/y.values\n",
    "print(np.mean(aa),\"      Mean Squared Error:\",  np.std(aa)/np.mean(aa),\"        \",model.sympy(i))"
   ]
  },
  {
   "cell_type": "code",
   "execution_count": 237,
   "metadata": {},
   "outputs": [
    {
     "data": {
      "text/latex": [
       "$\\displaystyle \\eta_{i} + \\eta_{o} + 2.99648502989275 \\left(0.025856011593324 Di_{D}^{2} + \\frac{\\eta_{o} + fc_{fyo}}{Di_{D} fc_{fyo} fyo}\\right)^{0.30023974}$"
      ],
      "text/plain": [
       "eta_i + eta_o + 2.99648502989275*(0.025856011593324*Di_D**2 + (eta_o + fc_fyo)/(Di_D*fc_fyo*fyo))**0.30023974"
      ]
     },
     "execution_count": 237,
     "metadata": {},
     "output_type": "execute_result"
    }
   ],
   "source": [
    "i=11\n",
    "model.sympy(i)"
   ]
  },
  {
   "cell_type": "code",
   "execution_count": 238,
   "metadata": {},
   "outputs": [
    {
     "name": "stdout",
     "output_type": "stream",
     "text": [
      "1.0026741164148825       Mean Squared Error: 0.07415670654312659          eta_i + eta_o + 2.99648502989275*(0.025856011593324*Di_D**2 + (eta_o + fc_fyo)/(Di_D*fc_fyo*fyo))**0.30023974\n"
     ]
    }
   ],
   "source": [
    "y_pred = model.predict(X,index=i)\n",
    "aa=y_pred/y.values\n",
    "print(np.mean(aa),\"      Mean Squared Error:\",  np.std(aa)/np.mean(aa),\"        \",model.sympy(i))"
   ]
  },
  {
   "cell_type": "code",
   "execution_count": 239,
   "metadata": {},
   "outputs": [
    {
     "data": {
      "text/latex": [
       "$\\displaystyle \\eta_{i} + \\eta_{o} + \\left(\\frac{\\eta_{o} + fc_{fyo}}{fc_{fyo} \\left(0.0191056168340136 Di_{D} fyo + 0.317549512593324\\right)}\\right)^{0.2788979}$"
      ],
      "text/plain": [
       "eta_i + eta_o + ((eta_o + fc_fyo)/(fc_fyo*(0.0191056168340136*Di_D*fyo + 0.317549512593324)))**0.2788979"
      ]
     },
     "execution_count": 239,
     "metadata": {},
     "output_type": "execute_result"
    }
   ],
   "source": [
    "i=10\n",
    "model.sympy(i)"
   ]
  },
  {
   "cell_type": "code",
   "execution_count": 240,
   "metadata": {},
   "outputs": [
    {
     "name": "stdout",
     "output_type": "stream",
     "text": [
      "0.9957780489917618       Mean Squared Error: 0.07675880768188613          eta_i + eta_o + ((eta_o + fc_fyo)/(fc_fyo*(0.0191056168340136*Di_D*fyo + 0.317549512593324)))**0.2788979\n"
     ]
    }
   ],
   "source": [
    "y_pred = model.predict(X,index=i)\n",
    "aa=y_pred/y.values\n",
    "print(np.mean(aa),\"      Mean Squared Error:\",  np.std(aa)/np.mean(aa),\"        \",model.sympy(i))"
   ]
  },
  {
   "cell_type": "markdown",
   "metadata": {},
   "source": []
  },
  {
   "cell_type": "code",
   "execution_count": null,
   "metadata": {},
   "outputs": [],
   "source": []
  },
  {
   "cell_type": "markdown",
   "metadata": {},
   "source": [
    "Circular section"
   ]
  },
  {
   "cell_type": "code",
   "execution_count": 800,
   "metadata": {},
   "outputs": [
    {
     "name": "stderr",
     "output_type": "stream",
     "text": [
      "c:\\Users\\osama\\anaconda3\\lib\\site-packages\\pysr\\sr.py:1230: UserWarning: Note: Using a large maxsize for the equation search will be exponentially slower and use significant memory. You should consider turning `use_frequency` to False, and perhaps use `warmup_maxsize_by`.\n",
      "  warnings.warn(\n",
      "c:\\Users\\osama\\anaconda3\\lib\\site-packages\\pysr\\sr.py:1296: UserWarning: Note: it looks like you are running in Jupyter. The progress bar will be turned off.\n",
      "  warnings.warn(\n"
     ]
    },
    {
     "name": "stdout",
     "output_type": "stream",
     "text": [
      "0.8216253460418619       Mean Squared Error: 0.4198046397263072          1.65663020000000\n",
      "0.9443871795769245       Mean Squared Error: 0.14483188957039458          eta + 1.23486\n",
      "1.0063605642118172       Mean Squared Error: 0.08779813786010932          1.5040045*eta + 1.0224893\n",
      "1.0022173367911176       Mean Squared Error: 0.08273599406764118          eta/lam**0.19515437 + 1.0221514\n",
      "1.0012046432939752       Mean Squared Error: 0.07744581617425582          eta + 0.95936775 + 0.00438432*t_D_1/fc_fy\n",
      "1.0007703960208565       Mean Squared Error: 0.0771250484915514          0.75847876**lam + eta + 0.004347205*t_D_1/fc_fy\n",
      "1.0007521169101503       Mean Squared Error: 0.07669168027657838          0.82219374**lam + eta**1.0325893 + 0.0042239283*t_D_1/fc_fy\n",
      "1.0043360230569658       Mean Squared Error: 0.07666439029949486          0.38505226**(lam**2) + eta**1.0437362 + 0.0042239283*t_D_1/fc_fy\n",
      "1.002029610056716       Mean Squared Error: 0.07650233436697544          0.7942968**lam + eta**1.0437362 + 0.0042239283*(0.09525341**eta + t_D_1)/fc_fy\n",
      "1.0002639503405706       Mean Squared Error: 0.07634779193948978          0.67415303**(lam - 0.709392492014766/t_D_1) + eta**1.0437362 + 0.0042239283*t_D_1/fc_fy\n",
      "1.0023588575510896       Mean Squared Error: 0.07632241422290248          0.67415303**(lam - 0.709392492014766/t_D_1) + eta**1.0437362 + 0.0042239283*(fc_fy + t_D_1)/fc_fy\n",
      "1.0017864341548133       Mean Squared Error: 0.07630426410099758          0.67415303**(lam - 0.709392492014766/(eta + t_D_1)) + eta**1.0437362 + 0.0042239283*(fc_fy + t_D_1)/fc_fy\n",
      "1.0015727412999524       Mean Squared Error: 0.07600492763065551          0.7942968**lam + eta**1.0437362 + 0.0042239283*(fc_fy**(1.4160115*lam*(eta + t_D_1) - 0.93048961848115) + t_D_1)/fc_fy\n",
      "1.0036676485104716       Mean Squared Error: 0.07596457015127979          0.7942968**lam + eta**1.0437362 + 0.0042239283*(fc_fy + fc_fy**(1.4160115*lam*(eta + t_D_1) - 0.93048961848115) + t_D_1)/fc_fy\n",
      "1.0014082630963186       Mean Squared Error: 0.0760218181902397          eta - 0.00292870506551424*(eta + t_D_1)/((1.0437362*eta)**t_D_1 + 0.6615228) + 0.9593839 + 0.00920364398411421/lam + 0.0045390404*(t_D_1 - 1.3702877)/fc_fy\n",
      "0.9986165059491032       Mean Squared Error: 0.07586142190455158          eta - 0.00288311757464071*(fc_fy + t_D_1)/((1.0437362*eta)**t_D_1 + 0.6615228) + 0.9593839 + 0.00906038236276849/lam + 0.0044683868318937*(t_D_1 - 1.3702877)/fc_fy\n",
      "0.998665728232018       Mean Squared Error: 0.0758611220478734          eta - 0.00288311757464071*(fc_fy + t_D_1)/((1.0437362*eta)**t_D_1 + 0.6615228) + 0.959483146111117 + 0.00906038236276849/lam + 0.0044683868318937*(t_D_1 - 1.3702877)/fc_fy\n",
      "1.0011321350648186       Mean Squared Error: 0.07597628139389546          eta - 0.00292870506551424*(t_D_1 + 1.7402545)/((1.0437362*eta)**t_D_1 + 0.6615228) + 0.9593839 + 0.00920364398411421/lam + 0.0045390404*(0.10720302**(2*eta) + t_D_1 - 1.3702877)/fc_fy\n",
      "0.9997396928751288       Mean Squared Error: 0.07599143114842062          eta - 0.00292870506551424*(t_D_1 + 1.7402545)/((1.0437362*eta)**t_D_1 + 0.6615228) + 0.956576340819521 + 0.00920364398411421/lam + 0.0045390404*(0.10720302**(2*eta) + t_D_1 - 1.3702877)/fc_fy\n",
      "1.0003799805853373       Mean Squared Error: 0.07579251155680806          eta + 0.9593839 - 0.00292870506551424*(t_D_1 + 1.7402545)/(eta**t_D_1 + 0.6615228) + 0.00920364398411421/lam + 0.0045390404*(0.10720302**(eta + fc_fy*t_D_1 - 0.75960031) + t_D_1 - 1.3702877)/fc_fy\n",
      "1.0008374125252286       Mean Squared Error: 0.07577857940071767          eta - 0.00292870506551424*(t_D_1 + 1.7402545)/((1.0437362*eta)**t_D_1 + 0.6615228) + 0.9593839 + 0.00920364398411421/lam + 0.0045390404*(0.10720302**(eta + fc_fy*t_D_1 - 0.75960031) + t_D_1 - 1.3702877)/fc_fy\n",
      "number:   27\n"
     ]
    }
   ],
   "source": [
    "import pandas as pd\n",
    "import math\n",
    "from math import pi\n",
    "PC  = pd.read_excel(\"PC.xlsx\")\n",
    "PC['P_PcS']=PC['P']/((PC['D']-PC['t'])*PC['t']*PC['Fy']+(PC['D']-2.0*PC['t'])**2.0*PC['fc']/4.0)/pi*1000.0\n",
    "#X=PC[['D', 't', 'L', 'Fy', 'fc']];y=PC['P_PcS']\n",
    "#X,y = np.array(X.values),np.array(y.values)\n",
    "PC['Acfc']=(PC['D']-2.0*PC['t'])**2.0*PC['fc']/4.0*pi\n",
    "PC['Asfy']=(PC['D']-PC['t'])*PC['t']*PC['Fy']*pi\n",
    "PC['I_s']=(PC['D'])**4.0/64.0*pi-(PC['D']-2.0*PC['t'])**4.0/64.0*pi;PC['I_c'] =(PC['D']-2.0*PC['t'])**4.0/64.0*pi\n",
    "PC['N_pl'] = PC['Asfy'] + 0.85 * PC['Acfc']\n",
    "PC['N_cr'] = (pi ** 2.0 * ( 200000.0 * PC['I_s'] + 0.6 * 4400.0*PC['fc']**0.50 * PC['I_c'])) / PC['L']** 2\n",
    "#print(A_s*PC['Fy']/A_c/PC['fc'])\n",
    "PC['lam'] =(PC['N_pl'] / PC['N_cr'])**0.5####################     min(0.5, (N_pl / N_cr))\n",
    "#print(PC['lambda'] )\n",
    "PC['D_t']=PC['D']/PC['t']\n",
    "PC['t_D']=PC['t']/PC['D']\n",
    "\n",
    "PC['eta']=PC['Asfy']/(PC['Acfc'])#\n",
    "PC['P_PcS']=PC['P']/(PC['Acfc'])*1000.0#+PC['Asfy']\n",
    "PC['L_D']=PC['L']/PC['D']\n",
    "#X=np.array(PC[['eta','D_t']].values)\n",
    "PC['fc_fy']=PC['fc']/PC['Fy']\n",
    "\n",
    "PC['D_t_1']=PC['D_t']*PC['Fy']/208000.0\n",
    "PC['t_D_1']=1.0/PC['D_t_1']\n",
    "\n",
    "X=PC[['eta','lam','fc_fy','t_D_1']]\n",
    "y=PC['P_PcS']\n",
    "'''\n",
    "condition = PC['D_t_1'] < 0.07\n",
    "PC_filtered = PC[condition]\n",
    "\n",
    "X = PC_filtered[['eta','lam','fc_fy']]\n",
    "y = PC_filtered['P_PcS']'''\n",
    "dc=[]\n",
    "dc.append(X)\n",
    "dc.append(y)\n",
    "model = PySRRegressor(niterations=100,populations=60,population_size=60,maxsize=50,\n",
    "                      nested_constraints={\"^\":{\"^\":0,\"/\":1},\"/\":{\"/\":0,\"^\":1}},parsimony= 0.1,\n",
    "                      constraints={\"^\":(-1,10)},\n",
    "                      binary_operators=[\"+\", \"*\",\"^\",\"/\"],#special(x,y)=x^2.0+y\n",
    "                      denoise=True,loss=\"loss(x, y) = abs(x/y-1)\",\n",
    "                      )\n",
    "model.fit(X,y)\n",
    "for i in range(len(model.equations_)):\n",
    "    model.sympy(i)\n",
    "    y_pred = model.predict(X,index=i)\n",
    "    aa=y_pred/y.values\n",
    "    print(np.mean(aa),\"      Mean Squared Error:\",  np.std(aa)/np.mean(aa),\"        \",model.sympy(i))\n",
    "modely.append(model)\n",
    "print(\"number:  \",len(modely)-1)\n",
    "XX.append(dc)"
   ]
  },
  {
   "cell_type": "markdown",
   "metadata": {},
   "source": [
    "bestttttttttttttttttttttttttt"
   ]
  },
  {
   "cell_type": "code",
   "execution_count": 811,
   "metadata": {},
   "outputs": [
    {
     "name": "stdout",
     "output_type": "stream",
     "text": [
      "1.0007703960208565       Mean Squared Error: 0.0771250484915514\n"
     ]
    },
    {
     "data": {
      "text/latex": [
       "$\\displaystyle 0.75847876^{lam} + \\eta + \\frac{0.004347205 t_{D 1}}{fc_{fy}}$"
      ],
      "text/plain": [
       "0.75847876**lam + eta + 0.004347205*t_D_1/fc_fy"
      ]
     },
     "execution_count": 811,
     "metadata": {},
     "output_type": "execute_result"
    }
   ],
   "source": [
    "i=5\n",
    "j=27\n",
    "y_pred = modely[j].predict(XX[j][0],index=i)\n",
    "aa=(y_pred)/(XX[j][1].values)\n",
    "print(np.mean(aa),\"      Mean Squared Error:\",  np.std(aa)/np.mean(aa))\n",
    "modely[j].sympy(i)"
   ]
  },
  {
   "cell_type": "code",
   "execution_count": 806,
   "metadata": {},
   "outputs": [
    {
     "name": "stdout",
     "output_type": "stream",
     "text": [
      "1.0002639503405706       Mean Squared Error: 0.07634779193948978\n"
     ]
    },
    {
     "data": {
      "text/latex": [
       "$\\displaystyle 0.67415303^{lam - \\frac{0.709392492014766}{t_{D 1}}} + \\eta^{1.0437362} + \\frac{0.0042239283 t_{D 1}}{fc_{fy}}$"
      ],
      "text/plain": [
       "0.67415303**(lam - 0.709392492014766/t_D_1) + eta**1.0437362 + 0.0042239283*t_D_1/fc_fy"
      ]
     },
     "execution_count": 806,
     "metadata": {},
     "output_type": "execute_result"
    }
   ],
   "source": [
    "i=9\n",
    "j=27\n",
    "y_pred = modely[j].predict(XX[j][0],index=i)\n",
    "aa=(y_pred)/(XX[j][1].values)\n",
    "print(np.mean(aa),\"      Mean Squared Error:\",  np.std(aa)/np.mean(aa))\n",
    "modely[j].sympy(i)"
   ]
  },
  {
   "cell_type": "code",
   "execution_count": null,
   "metadata": {},
   "outputs": [],
   "source": []
  },
  {
   "cell_type": "markdown",
   "metadata": {},
   "source": [
    "Circular section"
   ]
  },
  {
   "cell_type": "code",
   "execution_count": 812,
   "metadata": {},
   "outputs": [
    {
     "name": "stderr",
     "output_type": "stream",
     "text": [
      "c:\\Users\\osama\\anaconda3\\lib\\site-packages\\pysr\\sr.py:1230: UserWarning: Note: Using a large maxsize for the equation search will be exponentially slower and use significant memory. You should consider turning `use_frequency` to False, and perhaps use `warmup_maxsize_by`.\n",
      "  warnings.warn(\n",
      "c:\\Users\\osama\\anaconda3\\lib\\site-packages\\pysr\\sr.py:1296: UserWarning: Note: it looks like you are running in Jupyter. The progress bar will be turned off.\n",
      "  warnings.warn(\n"
     ]
    },
    {
     "name": "stdout",
     "output_type": "stream",
     "text": [
      "0.8216253956380449       Mean Squared Error: 0.4198046397263072          1.65663030000000\n",
      "0.9443871795769245       Mean Squared Error: 0.14483188957039458          eta + 1.23486\n",
      "1.0064287229566484       Mean Squared Error: 0.08780374441629848          1.5043957*eta + 1.0223649\n",
      "0.9996844769197096       Mean Squared Error: 0.08356808004087882          1.0030426**(t_D_1/fc_fy) + eta\n",
      "1.0018095156578086       Mean Squared Error: 0.07915249549375578          eta + 0.9209952 + 0.004829349*t_D_1/fc_fy\n",
      "0.9985246089125102       Mean Squared Error: 0.0774498812378814          eta + 0.9533107 + 0.00439166375011599*t_D_1/fc_fy\n",
      "1.003155656525772       Mean Squared Error: 0.07731605621390675          0.73557305**lam + eta + 0.0044478072481248*t_D_1/fc_fy\n",
      "1.0010361034287507       Mean Squared Error: 0.07700841989000941          0.7014923**lam + eta + 0.024019573 + 0.00420136440961104*t_D_1/fc_fy\n",
      "0.9986326239510949       Mean Squared Error: 0.07693198631023143          eta + 0.9209952 + 0.00649905418222447/lam + 0.00420136440961104*t_D_1/fc_fy\n",
      "1.000032595466487       Mean Squared Error: 0.07620892147328628          eta + 0.9564133 + 0.094253674*(0.18459801*eta + 0.0340764252959601)/lam + 0.00307181814107904*t_D_1/fc_fy\n",
      "number:   28\n"
     ]
    }
   ],
   "source": [
    "import pandas as pd\n",
    "import math\n",
    "from math import pi\n",
    "PC  = pd.read_excel(\"PC.xlsx\")\n",
    "PC['P_PcS']=PC['P']/((PC['D']-PC['t'])*PC['t']*PC['Fy']+(PC['D']-2.0*PC['t'])**2.0*PC['fc']/4.0)/pi*1000.0\n",
    "#X=PC[['D', 't', 'L', 'Fy', 'fc']];y=PC['P_PcS']\n",
    "#X,y = np.array(X.values),np.array(y.values)\n",
    "PC['Acfc']=(PC['D']-2.0*PC['t'])**2.0*PC['fc']/4.0*pi\n",
    "PC['Asfy']=(PC['D']-PC['t'])*PC['t']*PC['Fy']*pi\n",
    "PC['I_s']=(PC['D'])**4.0/64.0*pi-(PC['D']-2.0*PC['t'])**4.0/64.0*pi;PC['I_c'] =(PC['D']-2.0*PC['t'])**4.0/64.0*pi\n",
    "PC['N_pl'] = PC['Asfy'] + 0.85 * PC['Acfc']\n",
    "PC['N_cr'] = (pi ** 2.0 * ( 200000.0 * PC['I_s'] + 0.6 * 4400.0*PC['fc']**0.50 * PC['I_c'])) / PC['L']** 2\n",
    "#print(A_s*PC['Fy']/A_c/PC['fc'])\n",
    "PC['lam'] =(PC['N_pl'] / PC['N_cr'])**0.5####################     min(0.5, (N_pl / N_cr))\n",
    "#print(PC['lambda'] )\n",
    "PC['D_t']=PC['D']/PC['t']\n",
    "PC['t_D']=PC['t']/PC['D']\n",
    "\n",
    "PC['eta']=PC['Asfy']/(PC['Acfc'])#\n",
    "PC['P_PcS']=PC['P']/(PC['Acfc'])*1000.0#+PC['Asfy']\n",
    "PC['L_D']=PC['L']/PC['D']\n",
    "#X=np.array(PC[['eta','D_t']].values)\n",
    "PC['fc_fy']=PC['fc']/PC['Fy']\n",
    "\n",
    "PC['D_t_1']=PC['D_t']*PC['Fy']/208000.0\n",
    "PC['t_D_1']=1.0/PC['D_t_1']\n",
    "\n",
    "X=PC[['eta','lam','fc_fy','t_D_1']]\n",
    "y=PC['P_PcS']\n",
    "'''\n",
    "condition = PC['D_t_1'] < 0.07\n",
    "PC_filtered = PC[condition]\n",
    "\n",
    "X = PC_filtered[['eta','lam','fc_fy']]\n",
    "y = PC_filtered['P_PcS']'''\n",
    "dc=[]\n",
    "dc.append(X)\n",
    "dc.append(y)\n",
    "model = PySRRegressor(niterations=100,populations=60,population_size=60,maxsize=50,\n",
    "                      nested_constraints={\"^\":{\"^\":0,\"/\":1},\"/\":{\"/\":0,\"^\":1}},parsimony= 0.5,\n",
    "                      constraints={\"^\":(-1,10)},\n",
    "                      binary_operators=[\"+\", \"*\",\"^\",\"/\"],#special(x,y)=x^2.0+y\n",
    "                      denoise=True,loss=\"loss(x, y) = abs(x/y-1)\",\n",
    "                      )\n",
    "model.fit(X,y)\n",
    "for i in range(len(model.equations_)):\n",
    "    model.sympy(i)\n",
    "    y_pred = model.predict(X,index=i)\n",
    "    aa=y_pred/y.values\n",
    "    print(np.mean(aa),\"      Mean Squared Error:\",  np.std(aa)/np.mean(aa),\"        \",model.sympy(i))\n",
    "modely.append(model)\n",
    "print(\"number:  \",len(modely)-1)\n",
    "XX.append(dc)"
   ]
  },
  {
   "cell_type": "markdown",
   "metadata": {},
   "source": [
    "BESTTTTTTTTTT"
   ]
  },
  {
   "cell_type": "code",
   "execution_count": 822,
   "metadata": {},
   "outputs": [
    {
     "name": "stdout",
     "output_type": "stream",
     "text": [
      "0.9986326239510949       Mean Squared Error: 0.07693198631023143\n"
     ]
    },
    {
     "data": {
      "text/latex": [
       "$\\displaystyle \\eta + 0.9209952 + \\frac{0.00649905418222447}{lam} + \\frac{0.00420136440961104 t_{D 1}}{fc_{fy}}$"
      ],
      "text/plain": [
       "eta + 0.9209952 + 0.00649905418222447/lam + 0.00420136440961104*t_D_1/fc_fy"
      ]
     },
     "execution_count": 822,
     "metadata": {},
     "output_type": "execute_result"
    }
   ],
   "source": [
    "i=8\n",
    "j=28\n",
    "y_pred = modely[j].predict(XX[j][0],index=i)\n",
    "aa=(y_pred)/(XX[j][1].values)\n",
    "print(np.mean(aa),\"      Mean Squared Error:\",  np.std(aa)/np.mean(aa))\n",
    "modely[j].sympy(i)"
   ]
  },
  {
   "cell_type": "code",
   "execution_count": 821,
   "metadata": {},
   "outputs": [
    {
     "name": "stdout",
     "output_type": "stream",
     "text": [
      "1.000032595466487       Mean Squared Error: 0.07620892147328628\n"
     ]
    },
    {
     "data": {
      "text/latex": [
       "$\\displaystyle \\eta + 0.9564133 + \\frac{0.094253674 \\cdot \\left(0.18459801 \\eta + 0.0340764252959601\\right)}{lam} + \\frac{0.00307181814107904 t_{D 1}}{fc_{fy}}$"
      ],
      "text/plain": [
       "eta + 0.9564133 + 0.094253674*(0.18459801*eta + 0.0340764252959601)/lam + 0.00307181814107904*t_D_1/fc_fy"
      ]
     },
     "execution_count": 821,
     "metadata": {},
     "output_type": "execute_result"
    }
   ],
   "source": [
    "i=9\n",
    "j=28\n",
    "y_pred = modely[j].predict(XX[j][0],index=i)\n",
    "aa=(y_pred)/(XX[j][1].values)\n",
    "print(np.mean(aa),\"      Mean Squared Error:\",  np.std(aa)/np.mean(aa))\n",
    "modely[j].sympy(i)"
   ]
  },
  {
   "cell_type": "code",
   "execution_count": null,
   "metadata": {},
   "outputs": [],
   "source": []
  },
  {
   "cell_type": "code",
   "execution_count": null,
   "metadata": {},
   "outputs": [],
   "source": []
  },
  {
   "cell_type": "markdown",
   "metadata": {},
   "source": [
    "rectangular"
   ]
  },
  {
   "cell_type": "code",
   "execution_count": 875,
   "metadata": {},
   "outputs": [
    {
     "name": "stderr",
     "output_type": "stream",
     "text": [
      "c:\\Users\\osama\\anaconda3\\lib\\site-packages\\pysr\\sr.py:1230: UserWarning: Note: Using a large maxsize for the equation search will be exponentially slower and use significant memory. You should consider turning `use_frequency` to False, and perhaps use `warmup_maxsize_by`.\n",
      "  warnings.warn(\n",
      "c:\\Users\\osama\\anaconda3\\lib\\site-packages\\pysr\\sr.py:1296: UserWarning: Note: it looks like you are running in Jupyter. The progress bar will be turned off.\n",
      "  warnings.warn(\n"
     ]
    },
    {
     "name": "stdout",
     "output_type": "stream",
     "text": [
      "0.843454786192332       Mean Squared Error: 0.41727078646391447          1.72742160000000\n",
      "0.9937138604343894       Mean Squared Error: 0.082076394554808          eta + 1.0395808\n",
      "1.0039568901680438       Mean Squared Error: 0.07864283141631527          1.0739423*eta + 0.98694366\n",
      "1.00245109077856       Mean Squared Error: 0.07321405964299886          B_t_i**(-0.19963549) + eta + 0.15244283\n"
     ]
    },
    {
     "name": "stderr",
     "output_type": "stream",
     "text": [
      "c:\\Users\\osama\\anaconda3\\lib\\site-packages\\numpy\\core\\fromnumeric.py:86: VisibleDeprecationWarning: Creating an ndarray from ragged nested sequences (which is a list-or-tuple of lists-or-tuples-or ndarrays with different lengths or shapes) is deprecated. If you meant to do this, you must specify 'dtype=object' when creating the ndarray.\n",
      "  return ufunc.reduce(obj, axis, dtype, out, **passkwargs)\n"
     ]
    },
    {
     "ename": "ValueError",
     "evalue": "Failed to evaluate the expression. If you are using a custom operator, make sure to define it in `extra_sympy_mappings`, e.g., `model.set_params(extra_sympy_mappings={'inv': lambda x: 1/x})`, where `lambda x: 1/x` is a valid SymPy function defining the operator. You can then run `model.refresh()` to re-load the expressions.",
     "output_type": "error",
     "traceback": [
      "\u001b[1;31m---------------------------------------------------------------------------\u001b[0m",
      "\u001b[1;31mValueError\u001b[0m                                Traceback (most recent call last)",
      "File \u001b[1;32mc:\\Users\\osama\\anaconda3\\lib\\site-packages\\pysr\\sr.py:1936\u001b[0m, in \u001b[0;36mPySRRegressor.predict\u001b[1;34m(self, X, index)\u001b[0m\n\u001b[0;32m   1933\u001b[0m         \u001b[39mreturn\u001b[39;00m np\u001b[39m.\u001b[39mstack(\n\u001b[0;32m   1934\u001b[0m             [eq[\u001b[39m\"\u001b[39m\u001b[39mlambda_format\u001b[39m\u001b[39m\"\u001b[39m](X) \u001b[39mfor\u001b[39;00m eq \u001b[39min\u001b[39;00m best_equation], axis\u001b[39m=\u001b[39m\u001b[39m1\u001b[39m\n\u001b[0;32m   1935\u001b[0m         )\n\u001b[1;32m-> 1936\u001b[0m     \u001b[39mreturn\u001b[39;00m best_equation[\u001b[39m\"\u001b[39;49m\u001b[39mlambda_format\u001b[39;49m\u001b[39m\"\u001b[39;49m](X)\n\u001b[0;32m   1937\u001b[0m \u001b[39mexcept\u001b[39;00m \u001b[39mException\u001b[39;00m \u001b[39mas\u001b[39;00m error:\n",
      "File \u001b[1;32mc:\\Users\\osama\\anaconda3\\lib\\site-packages\\pysr\\export_numpy.py:36\u001b[0m, in \u001b[0;36mCallableEquation.__call__\u001b[1;34m(self, X)\u001b[0m\n\u001b[0;32m     35\u001b[0m         X \u001b[39m=\u001b[39m X[:, \u001b[39mself\u001b[39m\u001b[39m.\u001b[39m_selection]\n\u001b[1;32m---> 36\u001b[0m \u001b[39mreturn\u001b[39;00m \u001b[39mself\u001b[39;49m\u001b[39m.\u001b[39;49m_lambda(\u001b[39m*\u001b[39;49mX\u001b[39m.\u001b[39;49mT) \u001b[39m*\u001b[39m np\u001b[39m.\u001b[39mones(expected_shape)\n",
      "File \u001b[1;32m<lambdifygenerated-1851>:2\u001b[0m, in \u001b[0;36m_lambdifygenerated\u001b[1;34m(lam, B_t_i, H_B, eta)\u001b[0m\n\u001b[0;32m      1\u001b[0m \u001b[39mdef\u001b[39;00m \u001b[39m_lambdifygenerated\u001b[39m(lam, B_t_i, H_B, eta):\n\u001b[1;32m----> 2\u001b[0m     \u001b[39mreturn\u001b[39;00m amax((\u001b[39m0.9757709\u001b[39;49m,B_t_i\u001b[39m*\u001b[39;49m\u001b[39m*\u001b[39;49m(\u001b[39m-\u001b[39;49m\u001b[39m0.20232658\u001b[39;49m) \u001b[39m+\u001b[39;49m eta), axis\u001b[39m=\u001b[39;49m\u001b[39m0\u001b[39;49m) \u001b[39m+\u001b[39m \u001b[39m0.15244283\u001b[39m\n",
      "File \u001b[1;32m<__array_function__ internals>:5\u001b[0m, in \u001b[0;36mamax\u001b[1;34m(*args, **kwargs)\u001b[0m\n",
      "File \u001b[1;32mc:\\Users\\osama\\anaconda3\\lib\\site-packages\\numpy\\core\\fromnumeric.py:2754\u001b[0m, in \u001b[0;36mamax\u001b[1;34m(a, axis, out, keepdims, initial, where)\u001b[0m\n\u001b[0;32m   2641\u001b[0m \u001b[39m\u001b[39m\u001b[39m\"\"\"\u001b[39;00m\n\u001b[0;32m   2642\u001b[0m \u001b[39mReturn the maximum of an array or maximum along an axis.\u001b[39;00m\n\u001b[0;32m   2643\u001b[0m \n\u001b[1;32m   (...)\u001b[0m\n\u001b[0;32m   2752\u001b[0m \u001b[39m5\u001b[39;00m\n\u001b[0;32m   2753\u001b[0m \u001b[39m\"\"\"\u001b[39;00m\n\u001b[1;32m-> 2754\u001b[0m \u001b[39mreturn\u001b[39;00m _wrapreduction(a, np\u001b[39m.\u001b[39;49mmaximum, \u001b[39m'\u001b[39;49m\u001b[39mmax\u001b[39;49m\u001b[39m'\u001b[39;49m, axis, \u001b[39mNone\u001b[39;49;00m, out,\n\u001b[0;32m   2755\u001b[0m                       keepdims\u001b[39m=\u001b[39;49mkeepdims, initial\u001b[39m=\u001b[39;49minitial, where\u001b[39m=\u001b[39;49mwhere)\n",
      "File \u001b[1;32mc:\\Users\\osama\\anaconda3\\lib\\site-packages\\numpy\\core\\fromnumeric.py:86\u001b[0m, in \u001b[0;36m_wrapreduction\u001b[1;34m(obj, ufunc, method, axis, dtype, out, **kwargs)\u001b[0m\n\u001b[0;32m     84\u001b[0m             \u001b[39mreturn\u001b[39;00m reduction(axis\u001b[39m=\u001b[39maxis, out\u001b[39m=\u001b[39mout, \u001b[39m*\u001b[39m\u001b[39m*\u001b[39mpasskwargs)\n\u001b[1;32m---> 86\u001b[0m \u001b[39mreturn\u001b[39;00m ufunc\u001b[39m.\u001b[39mreduce(obj, axis, dtype, out, \u001b[39m*\u001b[39m\u001b[39m*\u001b[39mpasskwargs)\n",
      "\u001b[1;31mValueError\u001b[0m: The truth value of an array with more than one element is ambiguous. Use a.any() or a.all()",
      "\nThe above exception was the direct cause of the following exception:\n",
      "\u001b[1;31mValueError\u001b[0m                                Traceback (most recent call last)",
      "\u001b[1;32mc:\\Users\\osama\\OneDrive\\Desktop\\work\\svm - Copy.ipynb Cell 443\u001b[0m in \u001b[0;36m<cell line: 34>\u001b[1;34m()\u001b[0m\n\u001b[0;32m     <a href='vscode-notebook-cell:/c%3A/Users/osama/OneDrive/Desktop/work/svm%20-%20Copy.ipynb#Z1241sZmlsZQ%3D%3D?line=33'>34</a>\u001b[0m \u001b[39mfor\u001b[39;00m i \u001b[39min\u001b[39;00m \u001b[39mrange\u001b[39m(\u001b[39mlen\u001b[39m(model\u001b[39m.\u001b[39mequations_)):\n\u001b[0;32m     <a href='vscode-notebook-cell:/c%3A/Users/osama/OneDrive/Desktop/work/svm%20-%20Copy.ipynb#Z1241sZmlsZQ%3D%3D?line=34'>35</a>\u001b[0m     model\u001b[39m.\u001b[39msympy(i)\n\u001b[1;32m---> <a href='vscode-notebook-cell:/c%3A/Users/osama/OneDrive/Desktop/work/svm%20-%20Copy.ipynb#Z1241sZmlsZQ%3D%3D?line=35'>36</a>\u001b[0m     y_pred \u001b[39m=\u001b[39m model\u001b[39m.\u001b[39;49mpredict(X,index\u001b[39m=\u001b[39;49mi)\n\u001b[0;32m     <a href='vscode-notebook-cell:/c%3A/Users/osama/OneDrive/Desktop/work/svm%20-%20Copy.ipynb#Z1241sZmlsZQ%3D%3D?line=36'>37</a>\u001b[0m     aa\u001b[39m=\u001b[39my_pred\u001b[39m/\u001b[39my\u001b[39m.\u001b[39mvalues\n\u001b[0;32m     <a href='vscode-notebook-cell:/c%3A/Users/osama/OneDrive/Desktop/work/svm%20-%20Copy.ipynb#Z1241sZmlsZQ%3D%3D?line=37'>38</a>\u001b[0m     \u001b[39mprint\u001b[39m(np\u001b[39m.\u001b[39mmean(aa),\u001b[39m\"\u001b[39m\u001b[39m      Mean Squared Error:\u001b[39m\u001b[39m\"\u001b[39m,  np\u001b[39m.\u001b[39mstd(aa)\u001b[39m/\u001b[39mnp\u001b[39m.\u001b[39mmean(aa),\u001b[39m\"\u001b[39m\u001b[39m        \u001b[39m\u001b[39m\"\u001b[39m,model\u001b[39m.\u001b[39msympy(i))\n",
      "File \u001b[1;32mc:\\Users\\osama\\anaconda3\\lib\\site-packages\\pysr\\sr.py:1938\u001b[0m, in \u001b[0;36mPySRRegressor.predict\u001b[1;34m(self, X, index)\u001b[0m\n\u001b[0;32m   1936\u001b[0m     \u001b[39mreturn\u001b[39;00m best_equation[\u001b[39m\"\u001b[39m\u001b[39mlambda_format\u001b[39m\u001b[39m\"\u001b[39m](X)\n\u001b[0;32m   1937\u001b[0m \u001b[39mexcept\u001b[39;00m \u001b[39mException\u001b[39;00m \u001b[39mas\u001b[39;00m error:\n\u001b[1;32m-> 1938\u001b[0m     \u001b[39mraise\u001b[39;00m \u001b[39mValueError\u001b[39;00m(\n\u001b[0;32m   1939\u001b[0m         \u001b[39m\"\u001b[39m\u001b[39mFailed to evaluate the expression. \u001b[39m\u001b[39m\"\u001b[39m\n\u001b[0;32m   1940\u001b[0m         \u001b[39m\"\u001b[39m\u001b[39mIf you are using a custom operator, make sure to define it in `extra_sympy_mappings`, \u001b[39m\u001b[39m\"\u001b[39m\n\u001b[0;32m   1941\u001b[0m         \u001b[39m\"\u001b[39m\u001b[39me.g., `model.set_params(extra_sympy_mappings=\u001b[39m\u001b[39m{\u001b[39m\u001b[39m'\u001b[39m\u001b[39minv\u001b[39m\u001b[39m'\u001b[39m\u001b[39m: lambda x: 1/x})`, where \u001b[39m\u001b[39m\"\u001b[39m\n\u001b[0;32m   1942\u001b[0m         \u001b[39m\"\u001b[39m\u001b[39m`lambda x: 1/x` is a valid SymPy function defining the operator. \u001b[39m\u001b[39m\"\u001b[39m\n\u001b[0;32m   1943\u001b[0m         \u001b[39m\"\u001b[39m\u001b[39mYou can then run `model.refresh()` to re-load the expressions.\u001b[39m\u001b[39m\"\u001b[39m\n\u001b[0;32m   1944\u001b[0m     ) \u001b[39mfrom\u001b[39;00m \u001b[39merror\u001b[39;00m\n",
      "\u001b[1;31mValueError\u001b[0m: Failed to evaluate the expression. If you are using a custom operator, make sure to define it in `extra_sympy_mappings`, e.g., `model.set_params(extra_sympy_mappings={'inv': lambda x: 1/x})`, where `lambda x: 1/x` is a valid SymPy function defining the operator. You can then run `model.refresh()` to re-load the expressions."
     ]
    }
   ],
   "source": [
    "PC  = pd.read_excel(\"PR.xlsx\")#['P', 'EC4', 'FE', 'ref', 'Author ', 'Year', 'L', 'H', 'B', 't', 'Fy', 'fc', 'D/B', 'L/B', 'D/t']\n",
    "PC['Acfc']=(PC['H']-2.0*PC['t'])*(PC['B']-2.0*PC['t'])*(PC['fc'])\n",
    "PC['Asfy']=(PC['H']*PC['B']-(PC['H']-2.0*PC['t'])*(PC['B']-2.0*PC['t']))*PC['Fy']\n",
    "PC['eta']=PC['Asfy']/(PC['Acfc'])\n",
    "PC['L_B']=PC['L']/PC['B']\n",
    "PC['H_B']=PC['H']/PC['B']\n",
    "PC['B_t']=PC['B']/PC['t']\n",
    "PC['H_t']=PC['H']/PC['t']\n",
    "\n",
    "PC['I_s']=(PC['B'])**3.0*PC['H']/12.0-(PC['B']-2.0*PC['t'])**3.0*(PC['H']-2.0*PC['t'])/12.0;    PC['I_c'] =(PC['B']-2.0*PC['t'])**3.0*(PC['H']-2.0*PC['t'])/12.0\n",
    "PC['N_pl'] = PC['Asfy'] + 0.85 * PC['Acfc']\n",
    "PC['N_cr'] = (pi ** 2.0 * ( 200000.0 * PC['I_s'] + 0.6 * 4400.0*PC['fc']**0.50 * PC['I_c'])) / PC['L']** 2\n",
    "#print(A_s*PC['Fy']/A_c/PC['fc'])\n",
    "PC['lam'] =(PC['N_pl'] / PC['N_cr'])**0.5####################     min(0.5, (N_pl / N_cr))\n",
    "PC['P_PcS']=PC['P']/(PC['Acfc'])*1000.0\n",
    "\n",
    "PC['B_t_i']=PC['B']/PC['t']*(PC['Fy']/208000)**0.5\n",
    "\n",
    "\n",
    "#X=np.array(PC[['eta','D_t']].values)\n",
    "X=PC[['lam','B_t_i','H_B','eta']]\n",
    "y=PC['P_PcS']\n",
    "\n",
    "dc=[]\n",
    "dc.append(X)\n",
    "dc.append(y)\n",
    "model = PySRRegressor(niterations=100,populations=60,population_size=60,maxsize=50,\n",
    "                      nested_constraints={\"^\":{\"^\":0,\"/\":1},\"/\":{\"/\":0,\"^\":1}},parsimony= 0.5,\n",
    "                      constraints={\"^\":(-1,10)},\n",
    "                      binary_operators=[\"+\", \"*\",\"^\",\"/\",\"max\",\"min\"],#special(x,y)=x^2.0+y\n",
    "                      denoise=True,loss=\"loss(x, y) = abs(x/y-1)\",\n",
    "                      )\n",
    "model.fit(X,y)\n",
    "for i in range(len(model.equations_)):\n",
    "    model.sympy(i)\n",
    "    y_pred = model.predict(X,index=i)\n",
    "    aa=y_pred/y.values\n",
    "    print(np.mean(aa),\"      Mean Squared Error:\",  np.std(aa)/np.mean(aa),\"        \",model.sympy(i))\n",
    "modelyy.append(model)\n",
    "print(\"number:  \",len(modelyy)-1)\n",
    "XX_r.append(dc)"
   ]
  },
  {
   "cell_type": "code",
   "execution_count": 876,
   "metadata": {},
   "outputs": [
    {
     "name": "stdout",
     "output_type": "stream",
     "text": [
      "number:   4\n"
     ]
    }
   ],
   "source": [
    "modelyy.append(model)\n",
    "print(\"number:  \",len(modelyy)-1)\n",
    "XX_r.append(dc)"
   ]
  },
  {
   "cell_type": "code",
   "execution_count": 883,
   "metadata": {},
   "outputs": [
    {
     "data": {
      "text/latex": [
       "$\\displaystyle \\max\\left(0.22359633, \\eta\\right) + 0.8592236 + \\frac{0.30603927}{\\max\\left(B_{t i}, 0.7431388 \\max\\left(H_{B}, H_{B}^{\\eta^{2}}\\right)\\right)}$"
      ],
      "text/plain": [
       "Max(0.22359633, eta) + 0.8592236 + 0.30603927/Max(B_t_i, 0.7431388*Max(H_B, H_B**(eta**2)))"
      ]
     },
     "execution_count": 883,
     "metadata": {},
     "output_type": "execute_result"
    }
   ],
   "source": [
    "i=9\n",
    "j=4\n",
    "modelyy[j].sympy(i)"
   ]
  },
  {
   "cell_type": "code",
   "execution_count": 881,
   "metadata": {},
   "outputs": [
    {
     "data": {
      "text/plain": [
       "0.09016864443202777"
      ]
     },
     "execution_count": 881,
     "metadata": {},
     "output_type": "execute_result"
    }
   ],
   "source": [
    "min(PC['eta'])"
   ]
  },
  {
   "cell_type": "markdown",
   "metadata": {},
   "source": [
    "bestttttttttttttttttttt"
   ]
  },
  {
   "cell_type": "code",
   "execution_count": 884,
   "metadata": {},
   "outputs": [
    {
     "data": {
      "text/latex": [
       "$\\displaystyle \\eta + 0.8600225 + \\frac{0.30696008}{\\max\\left(B_{t i}, 0.7451394 \\max\\left(H_{B}, H_{B}^{\\eta^{2}}\\right)\\right)}$"
      ],
      "text/plain": [
       "eta + 0.8600225 + 0.30696008/Max(B_t_i, 0.7451394*Max(H_B, H_B**(eta**2)))"
      ]
     },
     "execution_count": 884,
     "metadata": {},
     "output_type": "execute_result"
    }
   ],
   "source": [
    "i=8\n",
    "j=4\n",
    "modelyy[j].sympy(i)"
   ]
  },
  {
   "cell_type": "code",
   "execution_count": 886,
   "metadata": {},
   "outputs": [
    {
     "name": "stdout",
     "output_type": "stream",
     "text": [
      "eta + 0.8600225 + 0.30696008/Max(B_t_i, 0.7451394*Max(H_B, H_B**(eta**2)))\n"
     ]
    }
   ],
   "source": [
    "print(model.sympy(i))"
   ]
  },
  {
   "cell_type": "markdown",
   "metadata": {},
   "source": [
    "Optimizing the paramters of above equation"
   ]
  },
  {
   "cell_type": "code",
   "execution_count": 896,
   "metadata": {},
   "outputs": [
    {
     "name": "stdout",
     "output_type": "stream",
     "text": [
      "Estimated Parameters: [0.84552551 0.29532943 0.83170079]\n"
     ]
    }
   ],
   "source": [
    "PC  = pd.read_excel(\"PR.xlsx\")#['P', 'EC4', 'FE', 'ref', 'Author ', 'Year', 'L', 'H', 'B', 't', 'Fy', 'fc', 'D/B', 'L/B', 'D/t']\n",
    "PC['Acfc']=(PC['H']-2.0*PC['t'])*(PC['B']-2.0*PC['t'])*(PC['fc'])\n",
    "PC['Asfy']=(PC['H']*PC['B']-(PC['H']-2.0*PC['t'])*(PC['B']-2.0*PC['t']))*PC['Fy']\n",
    "PC['eta']=PC['Asfy']/(PC['Acfc'])\n",
    "PC['L_B']=PC['L']/PC['B']\n",
    "PC['H_B']=PC['H']/PC['B']\n",
    "PC['B_t']=PC['B']/PC['t']\n",
    "PC['H_t']=PC['H']/PC['t']\n",
    "\n",
    "PC['I_s']=(PC['B'])**3.0*PC['H']/12.0-(PC['B']-2.0*PC['t'])**3.0*(PC['H']-2.0*PC['t'])/12.0;    PC['I_c'] =(PC['B']-2.0*PC['t'])**3.0*(PC['H']-2.0*PC['t'])/12.0\n",
    "PC['N_pl'] = PC['Asfy'] + 0.85 * PC['Acfc']\n",
    "PC['N_cr'] = (pi ** 2.0 * ( 200000.0 * PC['I_s'] + 0.6 * 4400.0*PC['fc']**0.50 * PC['I_c'])) / PC['L']** 2\n",
    "#print(A_s*PC['Fy']/A_c/PC['fc'])\n",
    "PC['lam'] =(PC['N_pl'] / PC['N_cr'])**0.5####################     min(0.5, (N_pl / N_cr))\n",
    "PC['P_PcS']=PC['P']/(PC['Acfc'])*1000.0\n",
    "\n",
    "PC['B_t_i']=PC['B']/PC['t']*(PC['Fy']/208000)**0.5\n",
    "\n",
    "\n",
    "#X=np.array(PC[['eta','D_t']].values)\n",
    "X=PC[['lam','B_t_i','H_B','eta']]\n",
    "y=PC['P_PcS']\n",
    "\n",
    "X= np.array(X.values)\n",
    "y= np.array(y.values)\n",
    "\n",
    "import numpy as np\n",
    "from scipy.optimize import minimize\n",
    "\n",
    "# Define the non-linear model\n",
    "def eqn(parameters, X):\n",
    "    a, b, c = parameters\n",
    "    return X[:,3] + a + b/np.max((X[:,1],c*np.max((X[:,2], X[:,2]**(X[:,3]**2)),axis=0)),axis=0)\n",
    "\n",
    "# Define the likelihood function\n",
    "def fncy(parameters, X, y):\n",
    "    y_pred = eqn(parameters, X)    # Compute the predicted output using the non-linear model\n",
    "    aa=y_pred/y\n",
    "    return np.std(aa)/np.mean(aa)\n",
    "\n",
    "\n",
    "initial_parameters = [0.8600225,0.30696008,0.7451394]# Define initial parameter values\n",
    "result = minimize(fncy, initial_parameters, args=(X, y), method='BFGS')# Optimize the parameters using MLE\n",
    "estimated_parameters = result.x# Retrieve the estimated parameters\n",
    "\n",
    "# Print the estimated parameters\n",
    "print(\"Estimated Parameters:\", estimated_parameters)\n"
   ]
  }
 ],
 "metadata": {
  "kernelspec": {
   "display_name": "base",
   "language": "python",
   "name": "python3"
  },
  "language_info": {
   "codemirror_mode": {
    "name": "ipython",
    "version": 3
   },
   "file_extension": ".py",
   "mimetype": "text/x-python",
   "name": "python",
   "nbconvert_exporter": "python",
   "pygments_lexer": "ipython3",
   "version": "3.9.12"
  },
  "orig_nbformat": 4
 },
 "nbformat": 4,
 "nbformat_minor": 2
}
